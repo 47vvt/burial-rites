{
 "cells": [
  {
   "cell_type": "code",
   "execution_count": 8,
   "metadata": {},
   "outputs": [],
   "source": [
    "# web scraping\n",
    "from selenium import webdriver\n",
    "from selenium.webdriver.chrome.options import Options\n",
    "from selenium.webdriver.chrome.service import Service\n",
    "from selenium.webdriver.common.by import By\n",
    "\n",
    "# generate the csv\n",
    "import pandas as pd"
   ]
  },
  {
   "attachments": {},
   "cell_type": "markdown",
   "metadata": {},
   "source": [
    "Setting up Selenium (linux)"
   ]
  },
  {
   "cell_type": "code",
   "execution_count": 9,
   "metadata": {},
   "outputs": [
    {
     "name": "stderr",
     "output_type": "stream",
     "text": [
      "Incompatible release of chromedriver (version 111.0.5563.64) detected in PATH: /bin/chromedriver\n"
     ]
    }
   ],
   "source": [
    "# path\n",
    "CHROMEDRIVER_PATH = '/usr/local/bin/chromedriver'\n",
    "s = Service(CHROMEDRIVER_PATH)\n",
    "WINDOW_SIZE = \"1920,1080\"\n",
    "\n",
    "# options\n",
    "chrome_options = Options()\n",
    "chrome_options.add_argument(\"--headless\")\n",
    "chrome_options.add_argument(\"--window-size=%s\" % WINDOW_SIZE)\n",
    "chrome_options.add_argument('--no-sandbox')\n",
    "driver = webdriver.Chrome(service=s, options=chrome_options)"
   ]
  },
  {
   "attachments": {},
   "cell_type": "markdown",
   "metadata": {},
   "source": [
    "Navigation"
   ]
  },
  {
   "cell_type": "code",
   "execution_count": 10,
   "metadata": {},
   "outputs": [],
   "source": [
    "char_list = []\n",
    "\n",
    "# go to website\n",
    "driver.get(\"https://www.litcharts.com/lit/burial-rites/characters\")\n",
    "\n",
    "char_elems = driver.find_elements(By.CSS_SELECTOR, 'div.name, h2.naked.name.index-list-item-title')\n",
    "\n",
    "# iterate through the tags and print their text content\n",
    "for elem in char_elems:\n",
    "    char_list.append({'character': elem.text})\n",
    "\n",
    "# close the browser\n",
    "driver.close()"
   ]
  },
  {
   "attachments": {},
   "cell_type": "markdown",
   "metadata": {},
   "source": [
    "Load into CSV data file"
   ]
  },
  {
   "cell_type": "code",
   "execution_count": 11,
   "metadata": {},
   "outputs": [],
   "source": [
    "\n",
    "import re \n",
    "df = pd.DataFrame(char_list)\n",
    "\n",
    "# Accounts for characters with an alias in brackets (alias column)\n",
    "df['alias'] = df['character'].apply(lambda x: re.findall(r'\\((.*?)\\)', x))\n",
    "df['alias'] = df['alias'].apply(lambda x: x[0] if len(x) > 0 else '')\n",
    "\n",
    "# Remove brackets and text within brackets (characters column)\n",
    "df['character'] = df['character'].apply(lambda x: re.sub(\"[\\(].*?[\\)]\", \"\", x))\n",
    "\n",
    "\n",
    "# Any entity with 'reverend', 'uncle', 'aunty', 'and', is given the first name of what comes after\n",
    "# Any entity without returns the first word of its string\n",
    "pattern = r'(?:reverend|uncle|aunty|and)\\s+(\\w+)'\n",
    "\n",
    "def filter_firstname(s):\n",
    "    match = re.search(pattern, s, re.IGNORECASE)\n",
    "    if match:\n",
    "        return match.group(1)\n",
    "    else:\n",
    "        return s.split(' ', 1)[0]\n",
    "\n",
    "# Apply the filter (character_firstname column)\n",
    "df['character_firstname'] = df['character'].apply(filter_firstname)\n",
    "\n",
    "pd.set_option('display.max_rows', None)\n",
    "df\n",
    "\n",
    "df.to_csv('characters.csv', index=False, header=True)"
   ]
  }
 ],
 "metadata": {
  "kernelspec": {
   "display_name": "Python 3",
   "language": "python",
   "name": "python3"
  },
  "language_info": {
   "codemirror_mode": {
    "name": "ipython",
    "version": 3
   },
   "file_extension": ".py",
   "mimetype": "text/x-python",
   "name": "python",
   "nbconvert_exporter": "python",
   "pygments_lexer": "ipython3",
   "version": "3.10.10"
  },
  "orig_nbformat": 4
 },
 "nbformat": 4,
 "nbformat_minor": 2
}
