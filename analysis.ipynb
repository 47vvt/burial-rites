{
 "cells": [
  {
   "cell_type": "code",
   "execution_count": 1,
   "metadata": {},
   "outputs": [],
   "source": [
    "import pandas as pd\n",
    "import networkx as nx\n"
   ]
  },
  {
   "cell_type": "code",
   "execution_count": 2,
   "metadata": {},
   "outputs": [],
   "source": [
    "relationship_df = pd.read_csv(\"./data/relationship_df.csv\")\n",
    "\n",
    "# Create a graph from a pandas dataframe\n",
    "G = nx.from_pandas_edgelist(relationship_df, \n",
    "                            source = \"source\", \n",
    "                            target = \"target\", \n",
    "                            edge_attr = \"value\", \n",
    "                            create_using = nx.Graph())\n"
   ]
  },
  {
   "cell_type": "code",
   "execution_count": 3,
   "metadata": {},
   "outputs": [
    {
     "data": {
      "application/vnd.jupyter.widget-view+json": {
       "model_id": "05b55003a79a492f967ced66630f165c",
       "version_major": 2,
       "version_minor": 0
      },
      "text/plain": [
       "JupyterWidget(events=['{\"attrs\": {\"nodes\": {\"Agnes\": {}, \"T\\\\u00f3ti\": {}, \"Natan\": {}, \"P\\\\u00e9tur\": {}, \"J\\…"
      ]
     },
     "metadata": {},
     "output_type": "display_data"
    }
   ],
   "source": [
    "from algorithmx import jupyter_canvas\n",
    "canvas = jupyter_canvas()\n",
    "canvas.nodes(G.nodes).add()\n",
    "canvas.edges(G.edges).add()\n",
    "canvas.edges(G.edges).add(\n",
    "    labels=lambda e: {0: {'text': G.edges[e]['value']}}\n",
    ")\n",
    "\n",
    "canvas"
   ]
  },
  {
   "attachments": {},
   "cell_type": "markdown",
   "metadata": {},
   "source": [
    "## Clustering coefficient"
   ]
  },
  {
   "attachments": {},
   "cell_type": "markdown",
   "metadata": {},
   "source": [
    "#### $C_i = \\frac{2E_i}{(k_i(k_i - 1))}$"
   ]
  },
  {
   "cell_type": "raw",
   "metadata": {},
   "source": [
    "function cc(G, target):\n",
    "    // input: graph, target\n",
    "    // output: C, clustering coefficient of target\n",
    "\n",
    "    L = list.create\n",
    "    k = []\n",
    "\n",
    "    for neighbour in target.neighbours:\n",
    "        list.add(neighbour)\n",
    "    \n",
    "    for i in L:\n",
    "        for j in L:\n",
    "            if i > j: # assuming node labels are numbers, ensure no duplicate edges\n",
    "                edge = ij\n",
    "            elif i == j:\n",
    "                break\n",
    "            else:\n",
    "                edge = ji\n",
    "            if edge exists in G.edges:\n",
    "                if edge is not in k:\n",
    "                    k.append(edge)\n",
    "    \n",
    "    E = length(L)\n",
    "    k = len(k)\n",
    "\n",
    "    C = 2*E/(k*(k-1))\n",
    "\n",
    "    return C"
   ]
  },
  {
   "cell_type": "code",
   "execution_count": 34,
   "metadata": {},
   "outputs": [
    {
     "data": {
      "text/plain": [
       "{'Agnes': 0.2537878787878788,\n",
       " 'Tóti': 0.31339031339031337,\n",
       " 'Natan': 0.3433333333333333,\n",
       " 'Pétur': 0.8888888888888888,\n",
       " 'Jón': 0.477124183006536,\n",
       " 'Margrét': 0.39920948616600793,\n",
       " 'Steina': 0.6666666666666666,\n",
       " 'Lauga': 0.6923076923076923,\n",
       " 'Kristín': 0.8666666666666667,\n",
       " 'Ingibjörg': 0.5,\n",
       " 'Jóas': 0.3888888888888889,\n",
       " 'Inga': 0.6071428571428571,\n",
       " 'Páll': 0.9,\n",
       " 'Róslín': 0.7272727272727273,\n",
       " 'Fridrik': 0.4666666666666667,\n",
       " 'Gudmundur': 0.7818181818181819,\n",
       " 'Björn': 0.4642857142857143,\n",
       " 'Sigga': 0.44166666666666665,\n",
       " 'Thorvardur': 0.6666666666666666,\n",
       " 'Sigrídur': 1.0,\n",
       " 'Haukur': 1.0,\n",
       " 'Gudrún': 0.5333333333333333,\n",
       " 'Dagga': 1.0,\n",
       " 'Bjarni': 1.0,\n",
       " 'Helga': 0.6666666666666666,\n",
       " 'Magnús': 0.8,\n",
       " 'Ingveldur': 0.6666666666666666,\n",
       " 'Kjartan': 0.3055555555555556,\n",
       " 'Gudbjörg': 0.7333333333333333,\n",
       " 'Ragnar': 0.0,\n",
       " 'Rósa': 0.5555555555555556,\n",
       " 'Karitas': 0.75,\n",
       " 'Worm': 0.8333333333333334,\n",
       " 'Daníel': 1.0,\n",
       " 'María': 0.6666666666666666,\n",
       " 'Thórunn': 1.0,\n",
       " 'Thóranna': 1.0,\n",
       " 'Thórbjörg': 1.0,\n",
       " 'Ospak': 1.0}"
      ]
     },
     "execution_count": 34,
     "metadata": {},
     "output_type": "execute_result"
    }
   ],
   "source": [
    "def cc(G):\n",
    "    # input: graph, target\n",
    "    # output: C, clustering coefficient of all nodes\n",
    "    \n",
    "    values = {}\n",
    "\n",
    "    for node in G.nodes:\n",
    "        neighbors = []\n",
    "        E = []\n",
    "        for neighbor in G.neighbors(node):\n",
    "            neighbors.append(neighbor)\n",
    "\n",
    "        for i in neighbors:\n",
    "            for j in neighbors:\n",
    "                if i > j: # python auto converts char names to ASCII integers, allowing for unique identifiers\n",
    "                    edge = (i,j) # this means duplicate edges (e.g. a-b, b-a) will always be detected\n",
    "                elif i == j:\n",
    "                    break\n",
    "                else:\n",
    "                    edge = (j,i)\n",
    "                if edge in G.edges:\n",
    "                    if edge not in E:\n",
    "                        E.append(edge)\n",
    "        E = len(E)\n",
    "        k = len(neighbors)\n",
    "        C = (2*E)/(k*(k-1))\n",
    "\n",
    "        values[node] = C\n",
    "\n",
    "    return values\n",
    "    \n",
    "\n",
    "cc(G)"
   ]
  },
  {
   "attachments": {},
   "cell_type": "markdown",
   "metadata": {},
   "source": [
    "Converting clustering coefficient values to colours (indicating cliques)"
   ]
  },
  {
   "cell_type": "code",
   "execution_count": 5,
   "metadata": {},
   "outputs": [
    {
     "name": "stdout",
     "output_type": "stream",
     "text": [
      "{'Agnes': '#b2c9f1', 'Tóti': '#b8c1e1', 'Natan': '#bbbeda', 'Pétur': '#f37a4d', 'Jón': '#c9adb7', 'Margrét': '#c1b7cb', 'Steina': '#dc9686', 'Lauga': '#df9380', 'Kristín': '#f17d53', 'Ingibjörg': '#cbaab1', 'Jóas': '#c0b8ce', 'Inga': '#d69d96', 'Páll': '#f4794a', 'Róslín': '#e38e77', 'Fridrik': '#c8afba', 'Gudmundur': '#e88869', 'Björn': '#c8afba', 'Sigga': '#c5b2c0', 'Thorvardur': '#dc9686', 'Sigrídur': '#ff6d31', 'Haukur': '#ff6d31', 'Gudrún': '#cfa6a9', 'Dagga': '#ff6d31', 'Bjarni': '#ff6d31', 'Helga': '#dc9686', 'Magnús': '#ea8564', 'Ingveldur': '#dc9686', 'Kjartan': '#b7c2e3', 'Gudbjörg': '#e38e75', 'Ragnar': '#98e8132', 'Rósa': '#d1a4a3', 'Karitas': '#e58b71', 'Worm': '#ed815b', 'Daníel': '#ff6d31', 'María': '#dc9686', 'Thórunn': '#ff6d31', 'Thóranna': '#ff6d31', 'Thórbjörg': '#ff6d31', 'Ospak': '#ff6d31'}\n"
     ]
    }
   ],
   "source": [
    "import colorsys\n",
    "\n",
    "def create_color_spectrum(value):\n",
    "    # Define the minimum and maximum colors in RGB\n",
    "    min_color_rgb = (173, 208, 255)  # Light blue\n",
    "    max_color_rgb = (255, 109, 49)  # Orange\n",
    "\n",
    "    # Calculate the range of colors between the minimum and maximum colors\n",
    "    color_range_rgb = (\n",
    "        max_color_rgb[0] - min_color_rgb[0],\n",
    "        max_color_rgb[1] - min_color_rgb[1],\n",
    "        max_color_rgb[2] - min_color_rgb[2],\n",
    "    )\n",
    "\n",
    "    # Adjust the input value to start at 0 instead of 0.2, and scale it to the range between 0 and 1\n",
    "    adjusted_value = (value - 0.2) / 0.8\n",
    "\n",
    "    # Calculate the RGB color for the given input value\n",
    "    r = int(min_color_rgb[0] + adjusted_value * color_range_rgb[0])\n",
    "    g = int(min_color_rgb[1] + adjusted_value * color_range_rgb[1])\n",
    "    b = int(min_color_rgb[2] + adjusted_value * color_range_rgb[2])\n",
    "\n",
    "    # Return the RGB color as a hex string\n",
    "    return f\"{'#{:02x}{:02x}{:02x}'.format(r, g, b)}\"\n",
    "\n",
    "# Example usage\n",
    "cliques = cc(G)\n",
    "node_warmth = {}\n",
    "\n",
    "for node in cliques:\n",
    "    node_warmth[node] = create_color_spectrum(cliques[node])\n",
    "\n",
    "print(node_warmth)"
   ]
  },
  {
   "attachments": {},
   "cell_type": "markdown",
   "metadata": {},
   "source": [
    "## PageRank"
   ]
  },
  {
   "attachments": {},
   "cell_type": "markdown",
   "metadata": {},
   "source": [
    "#### $ Pr(A) = \\frac{1-d}{N} + d(\\frac{Pr(B)}{L(B)} + \\frac{Pr(C)}{L(C)} + ...)$"
   ]
  },
  {
   "cell_type": "raw",
   "metadata": {},
   "source": [
    "function pagerank(G):\n",
    "    // input: G, graph\n",
    "    // output: pagerank of all nodes\n",
    "\n",
    "    dict = dictionary.create\n",
    "    d = 0.15\n",
    "    N = len(G.nodes)\n",
    "    total = 0\n",
    "\n",
    "    for node in G.nodes:\n",
    "        dict.add(node, 1/N)\n",
    "    \n",
    "\n",
    "    while probabilities still change:\n",
    "        for node in G.nodes:\n",
    "            for predecessor in G.predecessors(node):\n",
    "                total += dict.get(predecessor)/len(G.successors(predecessor))\n",
    "\n",
    "            dict.update(node, (1-d)/N + d * total)\n",
    "    \n",
    "    return dict"
   ]
  },
  {
   "cell_type": "code",
   "execution_count": 6,
   "metadata": {},
   "outputs": [
    {
     "data": {
      "text/plain": [
       "{'Agnes': 0.0394738472481509,\n",
       " 'Tóti': 0.03505468743895345,\n",
       " 'Natan': 0.03409864004285598,\n",
       " 'Pétur': 0.024025542585117257,\n",
       " 'Jón': 0.028460546242910965,\n",
       " 'Margrét': 0.031788523220386736,\n",
       " 'Steina': 0.025683920517197322,\n",
       " 'Lauga': 0.026094396115482442,\n",
       " 'Kristín': 0.024678816412522626,\n",
       " 'Ingibjörg': 0.02559770301057355,\n",
       " 'Jóas': 0.026617840766010474,\n",
       " 'Inga': 0.024628022857808237,\n",
       " 'Páll': 0.022997302549032674,\n",
       " 'Róslín': 0.025271257775407705,\n",
       " 'Fridrik': 0.028538779118864675,\n",
       " 'Gudmundur': 0.02503045440239164,\n",
       " 'Björn': 0.024902100065575552,\n",
       " 'Sigga': 0.029475348890835404,\n",
       " 'Thorvardur': 0.025056946041268034,\n",
       " 'Sigrídur': 0.022740609400569843,\n",
       " 'Haukur': 0.02252655461644871,\n",
       " 'Gudrún': 0.025421803794402776,\n",
       " 'Dagga': 0.023009183571939425,\n",
       " 'Bjarni': 0.023635973698355815,\n",
       " 'Helga': 0.023092634247703983,\n",
       " 'Magnús': 0.023126179930798234,\n",
       " 'Ingveldur': 0.022925775861538687,\n",
       " 'Kjartan': 0.028076632556974963,\n",
       " 'Gudbjörg': 0.023986934515303236,\n",
       " 'Ragnar': 0.02244224224922206,\n",
       " 'Rósa': 0.025275251863079197,\n",
       " 'Karitas': 0.024150983882038943,\n",
       " 'Worm': 0.023037959510044392,\n",
       " 'Daníel': 0.023142674119904717,\n",
       " 'María': 0.024926317024876132,\n",
       " 'Thórunn': 0.022561182822169158,\n",
       " 'Thóranna': 0.022876475807099183,\n",
       " 'Thórbjörg': 0.022671594460503392,\n",
       " 'Ospak': 0.022898360765681445}"
      ]
     },
     "execution_count": 6,
     "metadata": {},
     "output_type": "execute_result"
    }
   ],
   "source": [
    "def pagerank(G, d=0.15, N=len(G.nodes)):\n",
    "    # input: G, graph\n",
    "    # output: pagerank of all nodes\n",
    "\n",
    "    rankings = {}\n",
    "\n",
    "    # initially set their rankings evenly\n",
    "    for node in G.nodes:\n",
    "        rankings[node] = 1/N\n",
    "    \n",
    "    for x in range(100): # 100 iterations is probably enough\n",
    "        for node in G.nodes:\n",
    "            total = 0\n",
    "            for neighbor in G.neighbors(node):\n",
    "                total += rankings[neighbor]/len(list(G.neighbors(neighbor)))\n",
    "\n",
    "            rankings[node] = (1-d)/N + d * total\n",
    "    \n",
    "    # return sum(rankings.values())\n",
    "    return rankings\n",
    "\n",
    "pagerank(G)"
   ]
  },
  {
   "attachments": {},
   "cell_type": "markdown",
   "metadata": {},
   "source": [
    "## Diameter"
   ]
  },
  {
   "cell_type": "raw",
   "metadata": {},
   "source": [
    "function diameter(G):\n",
    "    // input: G, graph\n",
    "    // output: Average shortest path in G\n",
    "\n",
    "    edgelist = dictionary.create\n",
    "\n",
    "    for i in G.nodes:\n",
    "        for j in G.nodes:\n",
    "            if edge ij:\n",
    "                ij.dist = ij.weight\n",
    "            elif i = j:\n",
    "                ij.dist = 0\n",
    "            else:\n",
    "                ij.dist = inf\n",
    "\n",
    "    for k in G.nodes:\n",
    "        for i in G.nodes:\n",
    "            for j in G.nodes:\n",
    "                if edgelist.get(f\"{i},{j}\") > ik.dist + kj.dist:\n",
    "                    edgelist.get(f\"{i},{j}\") = ik.dist + kj.dist\n",
    "\n",
    "    for x in edgelist.values:\n",
    "        sum += x\n",
    "    \n",
    "    total = sum/len(Gnodes)\n",
    "    \n"
   ]
  },
  {
   "cell_type": "code",
   "execution_count": 7,
   "metadata": {},
   "outputs": [
    {
     "data": {
      "text/plain": [
       "'mean shortest path is 45.44864864864865 diameter is 27'"
      ]
     },
     "execution_count": 7,
     "metadata": {},
     "output_type": "execute_result"
    }
   ],
   "source": [
    "def diameter(G):\n",
    "    # input: G, graph\n",
    "    # output: Average shortest path in G\n",
    "\n",
    "    edgelist = {}\n",
    "\n",
    "    for i in G.nodes:\n",
    "        for j in G.nodes:\n",
    "            if G.has_edge(i, j):\n",
    "                edgelist[f\"({i},{j})\"] = G[i][j]['value']\n",
    "            elif i == j:\n",
    "                edgelist[f\"({i},{j})\"] = 0\n",
    "            else:\n",
    "                edgelist[f\"({i},{j})\"] = float('inf')\n",
    "\n",
    "    for k in G.nodes:\n",
    "        for i in G.nodes:\n",
    "            for j in G.nodes:\n",
    "                if edgelist[f\"({i},{j})\"] > edgelist[f\"({i},{k})\"] + edgelist[f\"({k},{j})\"]:\n",
    "                    edgelist[f\"({i},{j})\"] = edgelist[f\"({i},{k})\"] + edgelist[f\"({k},{j})\"]\n",
    "    \n",
    "    mean = sum(edgelist.values())/(len(G.edges)*2)\n",
    "    diameter = max(edgelist.values())\n",
    "\n",
    "    return f\"mean shortest path is {mean} diameter is {diameter}\"\n",
    "\n",
    "diameter(G)"
   ]
  },
  {
   "attachments": {},
   "cell_type": "markdown",
   "metadata": {},
   "source": [
    "## Degree distribution"
   ]
  },
  {
   "attachments": {},
   "cell_type": "markdown",
   "metadata": {},
   "source": [
    "$ P_{deg}(K) $ = fraction of nodes in the graph with degree $k$"
   ]
  },
  {
   "cell_type": "raw",
   "metadata": {},
   "source": [
    "function dd(G):\n",
    "    // input: G, graph\n",
    "    // output: fraction of nodes in G with degree k\n",
    "    \n",
    "    distrib = dictionary.create\n",
    "    for node in G.nodes:\n",
    "        degree = G.degree(node)\n",
    "        if degree in distrib:\n",
    "            distrib.update(degree, +1)\n",
    "        else:\n",
    "            distrib.add(degree, 1)\n",
    "\n",
    "    for node in distrib:\n",
    "        distrib.set(node, distrib.get(node)/len(G.nodes)) \n",
    "    return distrib"
   ]
  },
  {
   "cell_type": "code",
   "execution_count": 8,
   "metadata": {},
   "outputs": [
    {
     "data": {
      "text/plain": [
       "{33: '1/39',\n",
       " 27: '1/39',\n",
       " 25: '1/39',\n",
       " 9: '5/39',\n",
       " 18: '1/39',\n",
       " 23: '1/39',\n",
       " 13: '2/39',\n",
       " 10: '1/39',\n",
       " 8: '4/39',\n",
       " 5: '2/39',\n",
       " 11: '2/39',\n",
       " 15: '1/39',\n",
       " 16: '1/39',\n",
       " 7: '2/39',\n",
       " 4: '6/39',\n",
       " 2: '3/39',\n",
       " 6: '3/39',\n",
       " 3: '2/39'}"
      ]
     },
     "execution_count": 8,
     "metadata": {},
     "output_type": "execute_result"
    }
   ],
   "source": [
    "def dd(G):\n",
    "    # input: G, graph\n",
    "    # output: fraction of nodes in G with degree k\n",
    "\n",
    "    distrib = {}\n",
    "    for node in G.nodes:\n",
    "        degree = G.degree(node)\n",
    "        if degree in distrib:\n",
    "            distrib[degree] += 1\n",
    "        else:\n",
    "            distrib[degree] = 1\n",
    "\n",
    "    for node in distrib:\n",
    "        distrib[node] = f\"{distrib[node]}/{len(G.nodes)}\"\n",
    "\n",
    "    return distrib\n",
    "\n",
    "dd(G)\n"
   ]
  },
  {
   "attachments": {},
   "cell_type": "markdown",
   "metadata": {},
   "source": [
    "## Results"
   ]
  },
  {
   "cell_type": "code",
   "execution_count": 9,
   "metadata": {},
   "outputs": [
    {
     "name": "stdout",
     "output_type": "stream",
     "text": [
      "clustering coefficient values {'Agnes': 0.2537878787878788, 'Tóti': 0.31339031339031337, 'Natan': 0.3433333333333333, 'Pétur': 0.8888888888888888, 'Jón': 0.477124183006536, 'Margrét': 0.39920948616600793, 'Steina': 0.6666666666666666, 'Lauga': 0.6923076923076923, 'Kristín': 0.8666666666666667, 'Ingibjörg': 0.5, 'Jóas': 0.3888888888888889, 'Inga': 0.6071428571428571, 'Páll': 0.9, 'Róslín': 0.7272727272727273, 'Fridrik': 0.4666666666666667, 'Gudmundur': 0.7818181818181819, 'Björn': 0.4642857142857143, 'Sigga': 0.44166666666666665, 'Thorvardur': 0.6666666666666666, 'Sigrídur': 1.0, 'Haukur': 1.0, 'Gudrún': 0.5333333333333333, 'Dagga': 1.0, 'Bjarni': 1.0, 'Helga': 0.6666666666666666, 'Magnús': 0.8, 'Ingveldur': 0.6666666666666666, 'Kjartan': 0.3055555555555556, 'Gudbjörg': 0.7333333333333333, 'Ragnar': 0.0, 'Rósa': 0.5555555555555556, 'Karitas': 0.75, 'Worm': 0.8333333333333334, 'Daníel': 1.0, 'María': 0.6666666666666666, 'Thórunn': 1.0, 'Thóranna': 1.0, 'Thórbjörg': 1.0, 'Ospak': 1.0}\n",
      "mean shortest path is 45.44864864864865 diameter is 27\n",
      "pagerank values {'Agnes': 0.0394738472481509, 'Tóti': 0.03505468743895345, 'Natan': 0.03409864004285598, 'Pétur': 0.024025542585117257, 'Jón': 0.028460546242910965, 'Margrét': 0.031788523220386736, 'Steina': 0.025683920517197322, 'Lauga': 0.026094396115482442, 'Kristín': 0.024678816412522626, 'Ingibjörg': 0.02559770301057355, 'Jóas': 0.026617840766010474, 'Inga': 0.024628022857808237, 'Páll': 0.022997302549032674, 'Róslín': 0.025271257775407705, 'Fridrik': 0.028538779118864675, 'Gudmundur': 0.02503045440239164, 'Björn': 0.024902100065575552, 'Sigga': 0.029475348890835404, 'Thorvardur': 0.025056946041268034, 'Sigrídur': 0.022740609400569843, 'Haukur': 0.02252655461644871, 'Gudrún': 0.025421803794402776, 'Dagga': 0.023009183571939425, 'Bjarni': 0.023635973698355815, 'Helga': 0.023092634247703983, 'Magnús': 0.023126179930798234, 'Ingveldur': 0.022925775861538687, 'Kjartan': 0.028076632556974963, 'Gudbjörg': 0.023986934515303236, 'Ragnar': 0.02244224224922206, 'Rósa': 0.025275251863079197, 'Karitas': 0.024150983882038943, 'Worm': 0.023037959510044392, 'Daníel': 0.023142674119904717, 'María': 0.024926317024876132, 'Thórunn': 0.022561182822169158, 'Thóranna': 0.022876475807099183, 'Thórbjörg': 0.022671594460503392, 'Ospak': 0.022898360765681445}\n",
      "degree distribution {33: '1/39', 27: '1/39', 25: '1/39', 9: '5/39', 18: '1/39', 23: '1/39', 13: '2/39', 10: '1/39', 8: '4/39', 5: '2/39', 11: '2/39', 15: '1/39', 16: '1/39', 7: '2/39', 4: '6/39', 2: '3/39', 6: '3/39', 3: '2/39'}\n"
     ]
    }
   ],
   "source": [
    "print(f\"clustering coefficient values {cc(G)}\")\n",
    "print(diameter(G))\n",
    "print(f\"pagerank values {pagerank(G)}\")\n",
    "print(f\"degree distribution {dd(G)}\")\n",
    "\n"
   ]
  },
  {
   "attachments": {},
   "cell_type": "markdown",
   "metadata": {},
   "source": [
    "visualisation"
   ]
  },
  {
   "cell_type": "code",
   "execution_count": 10,
   "metadata": {},
   "outputs": [
    {
     "name": "stdout",
     "output_type": "stream",
     "text": [
      "Warning: When  cdn_resources is 'local' jupyter notebook has issues displaying graphics on chrome/safari. Use cdn_resources='in_line' or cdn_resources='remote' if you have issues viewing graphics in a notebook.\n",
      "./data/br.html\n"
     ]
    },
    {
     "data": {
      "text/html": [
       "\n",
       "        <iframe\n",
       "            width=\"1920px\"\n",
       "            height=\"1080px\"\n",
       "            src=\"./data/br.html\"\n",
       "            frameborder=\"0\"\n",
       "            allowfullscreen\n",
       "            \n",
       "        ></iframe>\n",
       "        "
      ],
      "text/plain": [
       "<IPython.lib.display.IFrame at 0x249f42a4b90>"
      ]
     },
     "execution_count": 10,
     "metadata": {},
     "output_type": "execute_result"
    }
   ],
   "source": [
    "from pyvis.network import Network\n",
    "net = Network(notebook = True, width=\"1920px\", height=\"1080px\", bgcolor='#222222', font_color='white')\n",
    "\n",
    "# Identify hubs with degree distribution and make hub nodes larger\n",
    "node_degree = dict(G.degree)\n",
    "\n",
    "# Identify cliques with clustering coefficient and colour them warmer\n",
    "cliques = cc(G)\n",
    "node_warmth = {}\n",
    "\n",
    "for node in cliques:\n",
    "    node_warmth[node] = create_color_spectrum(cliques[node])\n",
    "\n",
    "# Setting up node size and colour attribute\n",
    "nx.set_node_attributes(G, node_degree, 'size')\n",
    "nx.set_node_attributes(G, node_warmth, 'color')\n",
    "\n",
    "net.from_nx(G)\n",
    "net.show(\"./data/br.html\")"
   ]
  }
 ],
 "metadata": {
  "kernelspec": {
   "display_name": "Python 3",
   "language": "python",
   "name": "python3"
  },
  "language_info": {
   "codemirror_mode": {
    "name": "ipython",
    "version": 3
   },
   "file_extension": ".py",
   "mimetype": "text/x-python",
   "name": "python",
   "nbconvert_exporter": "python",
   "pygments_lexer": "ipython3",
   "version": "3.11.3"
  },
  "orig_nbformat": 4
 },
 "nbformat": 4,
 "nbformat_minor": 2
}
